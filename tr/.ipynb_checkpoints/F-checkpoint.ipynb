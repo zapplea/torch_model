{
 "cells": [
  {
   "cell_type": "code",
   "execution_count": 6,
   "metadata": {},
   "outputs": [
    {
     "name": "stdout",
     "output_type": "stream",
     "text": [
      "Variable containing:\n",
      " 0.3333  0.3333  0.3333\n",
      " 0.2119  0.5761  0.2119\n",
      "[torch.FloatTensor of size 2x3]\n",
      "\n"
     ]
    }
   ],
   "source": [
    "import torch as tr\n",
    "import torch.nn.functional as F\n",
    "\n",
    "score = F.softmax(tr.autograd.Variable(tr.FloatTensor([[1,1,1],[0,1,0]]),requires_grad=False),dim=1)\n",
    "# cannot: score = F.softmax(tr.autograd.Variable(tr.FloatTensor([[1,1,1],[0,1,0]]),requires_grad=False),dim=1)\n",
    "print(score)"
   ]
  },
  {
   "cell_type": "markdown",
   "metadata": {},
   "source": [
    "Difference between function under F and nn:\n",
    "function under nn if used to construct modules,but in F just compute."
   ]
  }
 ],
 "metadata": {
  "kernelspec": {
   "display_name": "Python 3",
   "language": "python",
   "name": "python3"
  },
  "language_info": {
   "codemirror_mode": {
    "name": "ipython",
    "version": 3
   },
   "file_extension": ".py",
   "mimetype": "text/x-python",
   "name": "python",
   "nbconvert_exporter": "python",
   "pygments_lexer": "ipython3",
   "version": "3.6.4"
  }
 },
 "nbformat": 4,
 "nbformat_minor": 2
}
