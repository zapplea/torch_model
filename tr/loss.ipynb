{
 "cells": [
  {
   "cell_type": "markdown",
   "metadata": {},
   "source": [
    "# CrossEntropyLoss"
   ]
  },
  {
   "cell_type": "code",
   "execution_count": 2,
   "metadata": {},
   "outputs": [
    {
     "name": "stdout",
     "output_type": "stream",
     "text": [
      "Variable containing:\n",
      " 0.5514\n",
      "[torch.FloatTensor of size 1]\n",
      "\n"
     ]
    }
   ],
   "source": [
    "import torch as tr\n",
    "import numpy as np\n",
    "\n",
    "loss = tr.nn.CrossEntropyLoss()\n",
    "input = tr.autograd.Variable(tr.FloatTensor(np.array([[1,0,0]],dtype='float32')),requires_grad=True)\n",
    "target = tr.autograd.Variable(tr.LongTensor(np.array([0])),requires_grad=False)\n",
    "# target = tr.LongTensor(np.array([0]))\n",
    "result = loss(input,target)\n",
    "print(result)"
   ]
  },
  {
   "cell_type": "code",
   "execution_count": 4,
   "metadata": {},
   "outputs": [
    {
     "name": "stdout",
     "output_type": "stream",
     "text": [
      "Variable containing:\n",
      " 0.5514\n",
      " 0.5514\n",
      "[torch.FloatTensor of size 2]\n",
      "\n"
     ]
    }
   ],
   "source": [
    "import torch as tr\n",
    "import numpy as np\n",
    "\n",
    "loss = tr.nn.CrossEntropyLoss(reduce=False)\n",
    "input = tr.autograd.Variable(tr.FloatTensor(np.array([[1,0,0],[1,0,0]],dtype='float32')),requires_grad=True)\n",
    "target = tr.autograd.Variable(tr.LongTensor(np.array([0,0])),requires_grad=False)\n",
    "# target = tr.LongTensor(np.array([0]))\n",
    "result = loss(input,target)\n",
    "print(result)"
   ]
  },
  {
   "cell_type": "code",
   "execution_count": 6,
   "metadata": {},
   "outputs": [
    {
     "name": "stdout",
     "output_type": "stream",
     "text": [
      "Variable containing:\n",
      " 0.5514\n",
      "[torch.FloatTensor of size 1]\n",
      "\n"
     ]
    }
   ],
   "source": [
    "# NLLLoss + log softmax = CrossEntropyLoss\n",
    "import torch as tr\n",
    "import numpy as np\n",
    "\n",
    "loss = tr.nn.NLLLoss()\n",
    "input = tr.nn.functional.log_softmax(tr.autograd.Variable(tr.FloatTensor(np.array([[1,0,0]],dtype='float32')),requires_grad=True),dim=1)\n",
    "target = tr.autograd.Variable(tr.LongTensor(np.array([0])),requires_grad=False)\n",
    "# target = tr.LongTensor(np.array([0]))\n",
    "result = loss(input,target)\n",
    "print(result)"
   ]
  },
  {
   "cell_type": "code",
   "execution_count": 7,
   "metadata": {},
   "outputs": [
    {
     "name": "stdout",
     "output_type": "stream",
     "text": [
      "Variable containing:\n",
      " 0.5514\n",
      "[torch.FloatTensor of size 1]\n",
      "\n"
     ]
    }
   ],
   "source": [
    "# log softmax = log+softmax\n",
    "import torch as tr\n",
    "import numpy as np\n",
    "\n",
    "loss = tr.nn.NLLLoss()\n",
    "input = tr.log(tr.nn.functional.softmax(tr.autograd.Variable(tr.FloatTensor(np.array([[1,0,0]],dtype='float32')),requires_grad=True),dim=1))\n",
    "target = tr.autograd.Variable(tr.LongTensor(np.array([0])),requires_grad=False)\n",
    "# target = tr.LongTensor(np.array([0]))\n",
    "result = loss(input,target)\n",
    "print(result)"
   ]
  }
 ],
 "metadata": {
  "kernelspec": {
   "display_name": "Python 3",
   "language": "python",
   "name": "python3"
  },
  "language_info": {
   "codemirror_mode": {
    "name": "ipython",
    "version": 3
   },
   "file_extension": ".py",
   "mimetype": "text/x-python",
   "name": "python",
   "nbconvert_exporter": "python",
   "pygments_lexer": "ipython3",
   "version": "3.6.4"
  }
 },
 "nbformat": 4,
 "nbformat_minor": 2
}
