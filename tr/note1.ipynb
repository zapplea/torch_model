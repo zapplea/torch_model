{
 "cells": [
  {
   "cell_type": "markdown",
   "metadata": {},
   "source": [
    "###### import torch"
   ]
  },
  {
   "cell_type": "code",
   "execution_count": 45,
   "metadata": {},
   "outputs": [],
   "source": [
    "import torch as tr\n",
    "import torch.nn.functional as F\n",
    "import numpy as np"
   ]
  },
  {
   "cell_type": "markdown",
   "metadata": {},
   "source": [
    "# Tensor"
   ]
  },
  {
   "cell_type": "code",
   "execution_count": 46,
   "metadata": {},
   "outputs": [
    {
     "name": "stdout",
     "output_type": "stream",
     "text": [
      "t1:\n",
      " \n",
      " 1  1  1\n",
      " 1  1  1\n",
      "[torch.FloatTensor of size 2x3]\n",
      "\n",
      "t1.numpy:\n",
      " [[1. 1. 1.]\n",
      " [1. 1. 1.]]\n",
      "t2:\n",
      " \n",
      " 1  1  1\n",
      " 1  1  1\n",
      "[torch.FloatTensor of size 2x3]\n",
      "\n",
      "t3:\n",
      " \n",
      " 0  0  0\n",
      " 0  0  0\n",
      "[torch.FloatTensor of size 2x3]\n",
      "\n",
      "t4:\n",
      " \n",
      " 1  1  1\n",
      " 1  1  1\n",
      "[torch.LongTensor of size 2x3]\n",
      "\n",
      "t1:\n",
      " \n",
      "   1    1    1\n",
      "   1    1  999\n",
      "[torch.FloatTensor of size 2x3]\n",
      "\n",
      "t5:\n",
      " \n",
      " 0  0  0  0\n",
      " 0  0  0  0\n",
      " 0  0  0  0\n",
      "[torch.DoubleTensor of size 3x4]\n",
      "\n"
     ]
    }
   ],
   "source": [
    "t1 = tr.Tensor(np.ones((2,3)))\n",
    "print('t1:\\n',t1)\n",
    "print('t1.numpy:\\n',t1.numpy())\n",
    "t2 = tr.ones((2,3))\n",
    "print('t2:\\n',t2)\n",
    "t3 = tr.zeros((2,3))\n",
    "print('t3:\\n',t3)\n",
    "t4 = t1.long()\n",
    "# .short, .int,\n",
    "print('t4:\\n',t4)\n",
    "t1[1,2] = 999\n",
    "print('t1:\\n',t1)\n",
    "\n",
    "# the from_numpy will inherit the type of numpy array.\n",
    "t5=tr.from_numpy(np.zeros((3,4),dtype='float64'))\n",
    "print('t5:\\n',t5)"
   ]
  },
  {
   "cell_type": "code",
   "execution_count": 47,
   "metadata": {},
   "outputs": [],
   "source": [
    "# t3.cuda() can put data to gpu"
   ]
  },
  {
   "cell_type": "markdown",
   "metadata": {},
   "source": [
    "# Variable"
   ]
  },
  {
   "cell_type": "code",
   "execution_count": 48,
   "metadata": {},
   "outputs": [],
   "source": [
    "t1 = tr.FloatTensor([[1,2],[3,4]])\n",
    "v1 = tr.autograd.Variable(t1,requires_grad=True)"
   ]
  },
  {
   "cell_type": "code",
   "execution_count": 50,
   "metadata": {
    "scrolled": false
   },
   "outputs": [
    {
     "name": "stdout",
     "output_type": "stream",
     "text": [
      "\n",
      "  2.5000\n",
      " 12.5000\n",
      "[torch.FloatTensor of size 2]\n",
      "\n"
     ]
    }
   ],
   "source": [
    "# mean through a specific axis\n",
    "v= tr.mean(v1*v1,dim=1)\n",
    "print(v.data)"
   ]
  },
  {
   "cell_type": "markdown",
   "metadata": {},
   "source": [
    "# gradient"
   ]
  },
  {
   "cell_type": "code",
   "execution_count": 51,
   "metadata": {
    "scrolled": false
   },
   "outputs": [],
   "source": [
    "from torch.autograd import Variable"
   ]
  },
  {
   "cell_type": "code",
   "execution_count": 62,
   "metadata": {
    "scrolled": true
   },
   "outputs": [
    {
     "name": "stdout",
     "output_type": "stream",
     "text": [
      "Variable containing:\n",
      " 1\n",
      "[torch.FloatTensor of size 1]\n",
      "\n",
      "Variable containing:\n",
      " 0.5000  0.5000\n",
      " 0.5000  0.5000\n",
      "[torch.FloatTensor of size 2x2]\n",
      "\n"
     ]
    }
   ],
   "source": [
    "x=Variable(tr.ones(2,2),requires_grad=True)\n",
    "y=tr.mul(x,x)\n",
    "out = tr.mean(y)\n",
    "print(out)\n",
    "out.backward(tr.FloatTensor([1])) # or out.backward()\n",
    "print(x.grad)"
   ]
  },
  {
   "cell_type": "code",
   "execution_count": 53,
   "metadata": {},
   "outputs": [
    {
     "name": "stdout",
     "output_type": "stream",
     "text": [
      "Variable containing:\n",
      " 0.2000  0.2000\n",
      " 0.2000  0.2000\n",
      "[torch.FloatTensor of size 2x2]\n",
      "\n"
     ]
    }
   ],
   "source": [
    "x=Variable(tr.ones(2,2),requires_grad=True)\n",
    "y=tr.mul(x,x)\n",
    "# 0.1 is learning rate, multiplied before gradient.\n",
    "y.backward(tr.FloatTensor([[0.1,0.1],[0.1,0.1]]))\n",
    "print(x.grad)"
   ]
  },
  {
   "cell_type": "markdown",
   "metadata": {},
   "source": [
    "# Data"
   ]
  },
  {
   "cell_type": "markdown",
   "metadata": {},
   "source": [
    "## Dataset"
   ]
  },
  {
   "cell_type": "code",
   "execution_count": 64,
   "metadata": {},
   "outputs": [],
   "source": [
    "from torch.utils.data import Dataset\n",
    "from torch.utils.data import DataLoader\n",
    "import numpy as np"
   ]
  },
  {
   "cell_type": "code",
   "execution_count": 75,
   "metadata": {},
   "outputs": [
    {
     "name": "stdout",
     "output_type": "stream",
     "text": [
      "======\n",
      "\n",
      "\n",
      "Columns 0 to 12 \n",
      "    1     1     1     1     1     1     1     1     1     1     1     1     1\n",
      "    1     1     1     1     1     1     1     1     1     1     1     1     1\n",
      "    1     1     1     1     1     1     1     1     1     1     1     1     1\n",
      "    1     1     1     1     1     1     1     1     1     1     1     1     1\n",
      "    1     1     1     1     1     1     1     1     1     1     1     1     1\n",
      "    1     1     1     1     1     1     1     1     1     1     1     1     1\n",
      "    1     1     1     1     1     1     1     1     1     1     1     1     1\n",
      "    1     1     1     1     1     1     1     1     1     1     1     1     1\n",
      "    1     1     1     1     1     1     1     1     1     1     1     1     1\n",
      "    1     1     1     1     1     1     1     1     1     1     1     1     1\n",
      "    1     1     1     1     1     1     1     1     1     1     1     1     1\n",
      "    1     1     1     1     1     1     1     1     1     1     1     1     1\n",
      "    1     1     1     1     1     1     1     1     1     1     1     1     1\n",
      "    1     1     1     1     1     1     1     1     1     1     1     1     1\n",
      "    1     1     1     1     1     1     1     1     1     1     1     1     1\n",
      "    1     1     1     1     1     1     1     1     1     1     1     1     1\n",
      "    1     1     1     1     1     1     1     1     1     1     1     1     1\n",
      "    1     1     1     1     1     1     1     1     1     1     1     1     1\n",
      "    1     1     1     1     1     1     1     1     1     1     1     1     1\n",
      "    1     1     1     1     1     1     1     1     1     1     1     1     1\n",
      "\n",
      "Columns 13 to 19 \n",
      "    1     1     1     1     1     1     1\n",
      "    1     1     1     1     1     1     1\n",
      "    1     1     1     1     1     1     1\n",
      "    1     1     1     1     1     1     1\n",
      "    1     1     1     1     1     1     1\n",
      "    1     1     1     1     1     1     1\n",
      "    1     1     1     1     1     1     1\n",
      "    1     1     1     1     1     1     1\n",
      "    1     1     1     1     1     1     1\n",
      "    1     1     1     1     1     1     1\n",
      "    1     1     1     1     1     1     1\n",
      "    1     1     1     1     1     1     1\n",
      "    1     1     1     1     1     1     1\n",
      "    1     1     1     1     1     1     1\n",
      "    1     1     1     1     1     1     1\n",
      "    1     1     1     1     1     1     1\n",
      "    1     1     1     1     1     1     1\n",
      "    1     1     1     1     1     1     1\n",
      "    1     1     1     1     1     1     1\n",
      "    1     1     1     1     1     1     1\n",
      "[torch.FloatTensor of size 20x20]\n",
      "\n",
      "\n",
      "    0     0     0     1     1     1     0     0     1     0\n",
      "    1     0     1     1     1     1     1     1     0     1\n",
      "    1     0     1     1     0     1     1     0     0     0\n",
      "    0     1     0     1     0     0     0     1     0     1\n",
      "    0     0     0     1     1     1     0     1     1     0\n",
      "    1     0     1     0     1     1     0     0     1     0\n",
      "    0     1     1     0     0     1     1     1     1     0\n",
      "    1     1     1     1     1     1     0     1     0     0\n",
      "    0     0     0     0     1     0     0     1     1     0\n",
      "    0     0     0     0     0     0     1     0     0     0\n",
      "    0     1     0     1     0     1     1     0     0     0\n",
      "    0     1     0     0     0     1     1     1     1     1\n",
      "    1     1     0     0     0     0     1     0     1     1\n",
      "    0     0     0     0     0     0     1     1     0     1\n",
      "    0     1     0     1     1     1     0     0     0     0\n",
      "    0     1     1     1     0     0     0     1     1     1\n",
      "    1     1     1     0     1     0     0     0     0     0\n",
      "    0     1     0     1     1     0     1     1     0     0\n",
      "    0     0     0     1     0     1     1     1     1     0\n",
      "    1     1     1     0     0     1     1     0     0     1\n",
      "[torch.FloatTensor of size 20x10]\n",
      "\n"
     ]
    }
   ],
   "source": [
    "class myDataset(Dataset):\n",
    "    def __init__(self):\n",
    "        self.feature_data = np.ones((1000,20),dtype='float32')\n",
    "        self.length = 1000\n",
    "        self.label_data = np.random.randint(low=0,high=2,size=(1000,10)).astype('float32')\n",
    "    def __len__(self):\n",
    "        return self.length\n",
    "    def __getitem__(self,idx):\n",
    "        data = (self.feature_data[idx],self.label_data[idx])\n",
    "        return data\n",
    "data = myDataset()\n",
    "dataiter = DataLoader(data,batch_size=20,shuffle=False)\n",
    "print('======')\n",
    "for batch_id,(X,Y_) in enumerate(dataiter):\n",
    "    print(X)\n",
    "    print(Y_)\n",
    "    break"
   ]
  }
 ],
 "metadata": {
  "kernelspec": {
   "display_name": "Python 3",
   "language": "python",
   "name": "python3"
  },
  "language_info": {
   "codemirror_mode": {
    "name": "ipython",
    "version": 3
   },
   "file_extension": ".py",
   "mimetype": "text/x-python",
   "name": "python",
   "nbconvert_exporter": "python",
   "pygments_lexer": "ipython3",
   "version": "3.6.4"
  }
 },
 "nbformat": 4,
 "nbformat_minor": 2
}
